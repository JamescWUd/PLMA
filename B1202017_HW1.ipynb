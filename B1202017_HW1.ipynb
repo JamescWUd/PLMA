{
  "nbformat": 4,
  "nbformat_minor": 0,
  "metadata": {
    "colab": {
      "provenance": []
    },
    "kernelspec": {
      "name": "python3",
      "display_name": "Python 3"
    },
    "language_info": {
      "name": "python"
    }
  },
  "cells": [
    {
      "cell_type": "code",
      "execution_count": 4,
      "metadata": {
        "colab": {
          "base_uri": "https://localhost:8080/"
        },
        "id": "EMBNknidqgqZ",
        "outputId": "055f8468-152c-4e9e-b07e-2fe77050aeac"
      },
      "outputs": [
        {
          "output_type": "stream",
          "name": "stdout",
          "text": [
            "I'm a student\n"
          ]
        }
      ],
      "source": [
        "print(\"I'm a student\")"
      ]
    },
    {
      "cell_type": "code",
      "source": [
        "x1 = float(input(\"使用者輸入x1=\"))\n",
        "y1 = float(input(\"使用者輸入y1=\"))\n",
        "x2 = float(input(\"使用者輸入x2=\"))\n",
        "y2 = float(input(\"使用者輸入y2=\"))\n",
        "AB = ((x1-x2)**2 + (y1-y2)**2)**0.5\n",
        "print(AB)"
      ],
      "metadata": {
        "id": "XjKlQtS4sMZK",
        "colab": {
          "base_uri": "https://localhost:8080/"
        },
        "outputId": "6390c87b-dbb0-47bd-ed1c-9928f2a744dc"
      },
      "execution_count": 14,
      "outputs": [
        {
          "output_type": "stream",
          "name": "stdout",
          "text": [
            "使用者輸入x1=1\n",
            "使用者輸入y1=2\n",
            "使用者輸入x2=4\n",
            "使用者輸入y2=6\n",
            "5.0\n"
          ]
        }
      ]
    },
    {
      "cell_type": "code",
      "source": [
        "w = float(input(\"輸入weight(kg) = \"))\n",
        "h = float(input(\"輸入height(cm) = \"))\n",
        "h /= 100\n",
        "BMI = w/h**2\n",
        "print(BMI)\n"
      ],
      "metadata": {
        "colab": {
          "base_uri": "https://localhost:8080/"
        },
        "id": "LBuS0x9mw1iG",
        "outputId": "59db6fe9-5d7b-4155-c6f7-bf885b386acc"
      },
      "execution_count": 10,
      "outputs": [
        {
          "output_type": "stream",
          "name": "stdout",
          "text": [
            "輸入weight(kg) = 52\n",
            "輸入height(cm) = 155\n",
            "21.64412070759625\n"
          ]
        }
      ]
    }
  ]
}