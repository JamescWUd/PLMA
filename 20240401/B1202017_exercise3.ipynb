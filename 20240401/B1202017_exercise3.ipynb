{
  "nbformat": 4,
  "nbformat_minor": 0,
  "metadata": {
    "colab": {
      "provenance": [],
      "authorship_tag": "ABX9TyMv6KKh/ndNIaOypOLUnHlU",
      "include_colab_link": true
    },
    "kernelspec": {
      "name": "python3",
      "display_name": "Python 3"
    },
    "language_info": {
      "name": "python"
    }
  },
  "cells": [
    {
      "cell_type": "markdown",
      "metadata": {
        "id": "view-in-github",
        "colab_type": "text"
      },
      "source": [
        "<a href=\"https://colab.research.google.com/github/JamescWUd/PLMA/blob/main/20240401/B1202017_exercise3.ipynb\" target=\"_parent\"><img src=\"https://colab.research.google.com/assets/colab-badge.svg\" alt=\"Open In Colab\"/></a>"
      ]
    },
    {
      "cell_type": "code",
      "execution_count": 11,
      "metadata": {
        "colab": {
          "base_uri": "https://localhost:8080/"
        },
        "id": "z4tIKYPBfnRK",
        "outputId": "1d927088-2d10-4091-8e3d-606709a30462"
      },
      "outputs": [
        {
          "output_type": "stream",
          "name": "stdout",
          "text": [
            "88.33333333333333\n",
            "{'姓名': '賴宏瑋', '性別': '男', '學號': 'M1129020'}\n",
            "95.0\n",
            "{'姓名': '許珈綺', '性別': '女', '學號': 'M1229001'}\n"
          ]
        }
      ],
      "source": [
        "字典一 = dict(姓名='賴宏瑋',性別='男',作業分數=[95,100,90])\n",
        "字典二 = dict(學號='M1129020')\n",
        "字典一.update(字典二)\n",
        "字典三 = 字典一\n",
        "import copy\n",
        "字典四 = copy.deepcopy(字典三)\n",
        "字典三['作業分數'][1] = 80\n",
        "字典四['姓名'] = '許珈綺'\n",
        "字典四['性別'] = '女'\n",
        "字典四['學號'] = 'M1229001'\n",
        "a = 字典三.pop('作業分數')\n",
        "print(sum(a)/len(a))\n",
        "print(字典三)\n",
        "b = 字典四.pop('作業分數')\n",
        "print(sum(b)/len(b))\n",
        "print(字典四)\n",
        "\n"
      ]
    },
    {
      "cell_type": "code",
      "source": [
        "a = [100,50,45,60,90,95,80,50]\n"
      ],
      "metadata": {
        "id": "LX02KU1Hpyi6"
      },
      "execution_count": null,
      "outputs": []
    }
  ]
}