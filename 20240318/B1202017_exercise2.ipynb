{
  "nbformat": 4,
  "nbformat_minor": 0,
  "metadata": {
    "colab": {
      "provenance": []
    },
    "kernelspec": {
      "name": "python3",
      "display_name": "Python 3"
    },
    "language_info": {
      "name": "python"
    }
  },
  "cells": [
    {
      "cell_type": "code",
      "execution_count": 36,
      "metadata": {
        "colab": {
          "base_uri": "https://localhost:8080/"
        },
        "id": "xhJ_5U-cdgUF",
        "outputId": "68ed4321-9ec6-40be-8b66-761d8755d50b"
      },
      "outputs": [
        {
          "output_type": "stream",
          "name": "stdout",
          "text": [
            "A\n",
            "['K', 'H', 'U']\n"
          ]
        }
      ],
      "source": [
        "a = 'C,B,A'\n",
        "c = a.split(',')\n",
        "b = [\"F\",\"G\",\"H\"]\n",
        "d = c + b\n",
        "d[0] = \"K\"\n",
        "e = d.pop(2)\n",
        "print(e)\n",
        "del d[1:4]\n",
        "d.append(\"U\")\n",
        "print(d)\n",
        "\n",
        "\n"
      ]
    },
    {
      "cell_type": "code",
      "source": [
        "a = input(\"使用者輸入一個八位數字\")\n",
        "print(a[4])"
      ],
      "metadata": {
        "id": "EYo2M9sPlzeE",
        "colab": {
          "base_uri": "https://localhost:8080/"
        },
        "outputId": "8358f0ef-e20f-45a3-dcdc-7341bf0825d0"
      },
      "execution_count": 25,
      "outputs": [
        {
          "output_type": "stream",
          "name": "stdout",
          "text": [
            "使用者輸入一個八位數字12345678\n",
            "5\n"
          ]
        }
      ]
    },
    {
      "cell_type": "code",
      "source": [
        "a = 'My ID is B1202017'\n",
        "c = a.split(' ')\n",
        "print(len(c))\n",
        "print(len(c[3]))\n"
      ],
      "metadata": {
        "colab": {
          "base_uri": "https://localhost:8080/"
        },
        "id": "9fUuZdHNpFZt",
        "outputId": "491a9c18-efaf-402f-a977-83b22ca11808"
      },
      "execution_count": 31,
      "outputs": [
        {
          "output_type": "stream",
          "name": "stdout",
          "text": [
            "4\n",
            "8\n"
          ]
        }
      ]
    },
    {
      "cell_type": "code",
      "source": [
        "a = 'I`m a student.'\n",
        "b = list(a)\n",
        "print(b[2])"
      ],
      "metadata": {
        "colab": {
          "base_uri": "https://localhost:8080/"
        },
        "id": "ltRos5V3pjrL",
        "outputId": "30a4a26c-0bdf-4665-a94f-f0be14e78968"
      },
      "execution_count": 40,
      "outputs": [
        {
          "output_type": "stream",
          "name": "stdout",
          "text": [
            "m\n"
          ]
        }
      ]
    }
  ]
}