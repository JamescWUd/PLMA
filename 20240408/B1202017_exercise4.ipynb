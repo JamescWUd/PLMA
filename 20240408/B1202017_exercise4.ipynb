{
  "nbformat": 4,
  "nbformat_minor": 0,
  "metadata": {
    "colab": {
      "provenance": [],
      "authorship_tag": "ABX9TyN3biNE7mDS6bC+43vRsetU",
      "include_colab_link": true
    },
    "kernelspec": {
      "name": "python3",
      "display_name": "Python 3"
    },
    "language_info": {
      "name": "python"
    }
  },
  "cells": [
    {
      "cell_type": "markdown",
      "metadata": {
        "id": "view-in-github",
        "colab_type": "text"
      },
      "source": [
        "<a href=\"https://colab.research.google.com/github/JamescWUd/PLMA/blob/main/20240408/B1202017_exercise4.ipynb\" target=\"_parent\"><img src=\"https://colab.research.google.com/assets/colab-badge.svg\" alt=\"Open In Colab\"/></a>"
      ]
    },
    {
      "cell_type": "code",
      "execution_count": 21,
      "metadata": {
        "colab": {
          "base_uri": "https://localhost:8080/"
        },
        "id": "ZblTalqyiyWR",
        "outputId": "bd9d2cad-1c26-4b52-a282-59a8c0b4292a"
      },
      "outputs": [
        {
          "output_type": "stream",
          "name": "stdout",
          "text": [
            "輸入weight(kg) = 52\n",
            "輸入height(cm) = 155\n",
            "21.64412070759625\n",
            "體位:適中\n"
          ]
        }
      ],
      "source": [
        "w = float(input(\"輸入weight(kg) = \"))\n",
        "h = float(input(\"輸入height(cm) = \"))\n",
        "h /= 100\n",
        "BMI = w/h**2\n",
        "print(BMI)\n",
        "a = BMI\n",
        "if a>=27:\n",
        "  print('體位:肥胖')\n",
        "elif a>=24 and a<27:\n",
        "  print('體位:過重')\n",
        "elif a>=18.5 and a<24:\n",
        "  print('體位:適中')\n",
        "elif a<18.5:\n",
        "  print('體位:過輕')"
      ]
    },
    {
      "cell_type": "code",
      "source": [
        "a = float(input('請輸入第一個數字:'))\n",
        "b = input('請輸入運算符號')\n",
        "c = float(input('請輸入第二個數字'))\n",
        "if b == '+':\n",
        "  d = a + c\n",
        "  print(d)\n",
        "elif b == '-':\n",
        "  d = a - c\n",
        "  print(d)\n",
        "elif b == '*':\n",
        "  d = a*c\n",
        "  print(d)\n",
        "elif b == '/':\n",
        "  d = a/c\n",
        "  print(d)"
      ],
      "metadata": {
        "colab": {
          "base_uri": "https://localhost:8080/"
        },
        "id": "nVSfog9coq4B",
        "outputId": "78d3049a-cde8-40f3-cc5f-d4c3c5b94f8b"
      },
      "execution_count": 24,
      "outputs": [
        {
          "output_type": "stream",
          "name": "stdout",
          "text": [
            "請輸入第一個數字:2\n",
            "請輸入運算符號+\n",
            "請輸入第二個數字3\n",
            "5.0\n"
          ]
        }
      ]
    }
  ]
}