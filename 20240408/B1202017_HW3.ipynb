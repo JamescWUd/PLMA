{
  "nbformat": 4,
  "nbformat_minor": 0,
  "metadata": {
    "colab": {
      "provenance": []
    },
    "kernelspec": {
      "name": "python3",
      "display_name": "Python 3"
    },
    "language_info": {
      "name": "python"
    }
  },
  "cells": [
    {
      "cell_type": "code",
      "execution_count": 6,
      "metadata": {
        "colab": {
          "base_uri": "https://localhost:8080/"
        },
        "id": "BLkIccX_wx0l",
        "outputId": "bc2f0928-15dd-4860-b7ca-b9b5d7912ffc"
      },
      "outputs": [
        {
          "output_type": "stream",
          "name": "stdout",
          "text": [
            "使用者輸入年份2020\n",
            "閏年\n"
          ]
        }
      ],
      "source": [
        "a = float(input('使用者輸入年份'))\n",
        "if a <= 1582:\n",
        "  b= a\n",
        "  if b%4 == 0:\n",
        "    print('閏年')\n",
        "  else:\n",
        "    print('平年')\n",
        "elif a > 1582:\n",
        "  c = a\n",
        "  if c%4 == 0:\n",
        "    if c%100 == 0 and c%400 == 0:\n",
        "      print('閏年')\n",
        "    elif c%100 == 0:\n",
        "      print('平年')\n",
        "    else:\n",
        "      print('閏年')\n",
        "  else:\n",
        "    print('平年')"
      ]
    }
  ]
}