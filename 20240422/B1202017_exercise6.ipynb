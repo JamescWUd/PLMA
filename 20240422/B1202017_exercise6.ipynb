{
  "nbformat": 4,
  "nbformat_minor": 0,
  "metadata": {
    "colab": {
      "provenance": []
    },
    "kernelspec": {
      "name": "python3",
      "display_name": "Python 3"
    },
    "language_info": {
      "name": "python"
    }
  },
  "cells": [
    {
      "cell_type": "code",
      "execution_count": 8,
      "metadata": {
        "id": "7ZTk4RdBpbQG",
        "colab": {
          "base_uri": "https://localhost:8080/"
        },
        "outputId": "6512f7d9-ec03-44ea-fa79-8acc801599d3"
      },
      "outputs": [
        {
          "output_type": "stream",
          "name": "stdout",
          "text": [
            "1 x 1 = 1 \t2 x 1 = 2 \t3 x 1 = 3 \t4 x 1 = 4 \t5 x 1 = 5 \t6 x 1 = 6 \t7 x 1 = 7 \t8 x 1 = 8 \t9 x 1 = 9 \t\n",
            "\n",
            "1 x 2 = 2 \t2 x 2 = 4 \t3 x 2 = 6 \t4 x 2 = 8 \t5 x 2 = 10 \t6 x 2 = 12 \t7 x 2 = 14 \t8 x 2 = 16 \t9 x 2 = 18 \t\n",
            "\n",
            "1 x 3 = 3 \t2 x 3 = 6 \t3 x 3 = 9 \t4 x 3 = 12 \t5 x 3 = 15 \t6 x 3 = 18 \t7 x 3 = 21 \t8 x 3 = 24 \t9 x 3 = 27 \t\n",
            "\n",
            "1 x 4 = 4 \t2 x 4 = 8 \t3 x 4 = 12 \t4 x 4 = 16 \t5 x 4 = 20 \t6 x 4 = 24 \t7 x 4 = 28 \t8 x 4 = 32 \t9 x 4 = 36 \t\n",
            "\n",
            "1 x 5 = 5 \t2 x 5 = 10 \t3 x 5 = 15 \t4 x 5 = 20 \t5 x 5 = 25 \t6 x 5 = 30 \t7 x 5 = 35 \t8 x 5 = 40 \t9 x 5 = 45 \t\n",
            "\n",
            "1 x 6 = 6 \t2 x 6 = 12 \t3 x 6 = 18 \t4 x 6 = 24 \t5 x 6 = 30 \t6 x 6 = 36 \t7 x 6 = 42 \t8 x 6 = 48 \t9 x 6 = 54 \t\n",
            "\n",
            "1 x 7 = 7 \t2 x 7 = 14 \t3 x 7 = 21 \t4 x 7 = 28 \t5 x 7 = 35 \t6 x 7 = 42 \t7 x 7 = 49 \t8 x 7 = 56 \t9 x 7 = 63 \t\n",
            "\n",
            "1 x 8 = 8 \t2 x 8 = 16 \t3 x 8 = 24 \t4 x 8 = 32 \t5 x 8 = 40 \t6 x 8 = 48 \t7 x 8 = 56 \t8 x 8 = 64 \t9 x 8 = 72 \t\n",
            "\n",
            "1 x 9 = 9 \t2 x 9 = 18 \t3 x 9 = 27 \t4 x 9 = 36 \t5 x 9 = 45 \t6 x 9 = 54 \t7 x 9 = 63 \t8 x 9 = 72 \t9 x 9 = 81 \t\n",
            "\n"
          ]
        }
      ],
      "source": [
        "i=1;\n",
        "while i < 10:\n",
        "    j=1\n",
        "    while j < 10:\n",
        "        s=  i*j\n",
        "        print ('%d x %d = %d ' %(j, i, s), end='\\t')\n",
        "        j += 1\n",
        "\n",
        "    i += 1\n",
        "    print('\\n')"
      ]
    },
    {
      "cell_type": "code",
      "source": [
        "import random\n",
        "answer = random.sample(range(1, 10), 4)\n",
        "print(answer)\n",
        "a = b = n = 0\n",
        "num = 0\n",
        "while a!=4:\n",
        "    num += 1\n",
        "    a = b = n = 0\n",
        "    guess = list(input('輸入四個數字(不會重複)：'))\n",
        "    if len(guess) > 4:\n",
        "      guess = list(input('輸入字數過多，請輸入四個數字(不會重複)'))\n",
        "    else:\n",
        "      guess = guess\n",
        "    for i in guess:\n",
        "        if int(guess[n]) == answer[n]:\n",
        "            a += 1\n",
        "        else:\n",
        "            if int(i) in answer:\n",
        "                b += 1\n",
        "        n += 1\n",
        "    output = ','.join(guess).replace(',','')\n",
        "    print(f'{output}: {a}A{b}B')\n",
        "print(f'答對了！總共猜了 {num} 次')"
      ],
      "metadata": {
        "colab": {
          "base_uri": "https://localhost:8080/"
        },
        "id": "youFW_1_r8Bz",
        "outputId": "73a16000-350b-45cd-ba6c-7e44f8f1f674"
      },
      "execution_count": 13,
      "outputs": [
        {
          "output_type": "stream",
          "name": "stdout",
          "text": [
            "[7, 5, 4, 6]\n",
            "輸入四個數字(不會重複)：56784\n",
            "輸入字數過多，請輸入四個數字(不會重複)3425\n",
            "3425: 0A2B\n",
            "輸入四個數字(不會重複)：3421\n",
            "3421: 0A1B\n",
            "輸入四個數字(不會重複)：7654\n",
            "7654: 1A3B\n",
            "輸入四個數字(不會重複)：7546\n",
            "7546: 4A0B\n",
            "答對了！總共猜了 4 次\n"
          ]
        }
      ]
    }
  ]
}