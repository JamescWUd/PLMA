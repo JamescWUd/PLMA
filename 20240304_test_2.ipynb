{
  "nbformat": 4,
  "nbformat_minor": 0,
  "metadata": {
    "colab": {
      "provenance": []
    },
    "kernelspec": {
      "name": "python3",
      "display_name": "Python 3"
    },
    "language_info": {
      "name": "python"
    }
  },
  "cells": [
    {
      "cell_type": "code",
      "execution_count": null,
      "metadata": {
        "colab": {
          "base_uri": "https://localhost:8080/"
        },
        "id": "cO4ndJnheLbH",
        "outputId": "03b5a322-a815-41f3-a1c2-7e8f3a019e5e"
      },
      "outputs": [
        {
          "output_type": "stream",
          "name": "stdout",
          "text": [
            "Ans.is =  495\n"
          ]
        }
      ],
      "source": [
        "x = 2\n",
        "y = 1\n",
        "a = 2*x + y\n",
        "b = 100 - y\n",
        "z = a*b\n",
        "print(\"Ans.is = \",z)"
      ]
    },
    {
      "cell_type": "code",
      "source": [
        "y = 4\n",
        "a = 2*y + 1\n",
        "z = 100/a\n",
        "print(\"Ans.is = \", z)"
      ],
      "metadata": {
        "colab": {
          "base_uri": "https://localhost:8080/"
        },
        "id": "wJAamQkhfMWM",
        "outputId": "783ca51d-7f12-4a10-eefc-9f71e42a95de"
      },
      "execution_count": null,
      "outputs": [
        {
          "output_type": "stream",
          "name": "stdout",
          "text": [
            "Ans.is =  11.11111111111111\n"
          ]
        }
      ]
    }
  ]
}