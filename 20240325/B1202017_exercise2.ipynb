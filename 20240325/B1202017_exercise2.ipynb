{
  "nbformat": 4,
  "nbformat_minor": 0,
  "metadata": {
    "colab": {
      "provenance": []
    },
    "kernelspec": {
      "name": "python3",
      "display_name": "Python 3"
    },
    "language_info": {
      "name": "python"
    }
  },
  "cells": [
    {
      "cell_type": "code",
      "execution_count": 10,
      "metadata": {
        "colab": {
          "base_uri": "https://localhost:8080/"
        },
        "id": "KP4mgtMhfkpd",
        "outputId": "c7780fcd-b01d-4976-f95b-669c51f49846"
      },
      "outputs": [
        {
          "output_type": "stream",
          "name": "stdout",
          "text": [
            "{'姓名': '吳浚奇', '性別': '男', '作業分數': [100, 100, 90], '學號': 'B1202017'}\n",
            "96.66666666666667\n"
          ]
        }
      ],
      "source": [
        "a = dict(姓名='吳浚奇',性別='男',作業分數=[80,95,100,90])\n",
        "a['學號']= 'B1202017'\n",
        "a['作業分數'][1]=100\n",
        "del (a['作業分數'][0])\n",
        "print(a)\n",
        "print(sum(a['作業分數'])/len(a['作業分數']))"
      ]
    }
  ]
}