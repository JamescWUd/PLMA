{
  "nbformat": 4,
  "nbformat_minor": 0,
  "metadata": {
    "colab": {
      "provenance": []
    },
    "kernelspec": {
      "name": "python3",
      "display_name": "Python 3"
    },
    "language_info": {
      "name": "python"
    }
  },
  "cells": [
    {
      "cell_type": "code",
      "execution_count": 28,
      "metadata": {
        "colab": {
          "base_uri": "https://localhost:8080/"
        },
        "id": "dDzZJSAfwDHX",
        "outputId": "07f269be-ac35-4966-e698-f17cd3d3253f"
      },
      "outputs": [
        {
          "output_type": "stream",
          "name": "stdout",
          "text": [
            "使用者輸入聖誕樹高度9\n",
            "        *\n",
            "       ***\n",
            "      *****\n",
            "     *******\n",
            "    *********\n",
            "   ***********\n",
            "  *************\n",
            " ***************\n",
            "*****************\n",
            "       ***\n",
            "       ***\n",
            "       ***\n",
            "       ***\n",
            "       ***\n"
          ]
        }
      ],
      "source": [
        "def christmas_tree(rows):\n",
        "    for i in range(rows):\n",
        "      print(' ' * (rows - i - 1) + '*' * (2 * i + 1))\n",
        "    for j in range(5):\n",
        "      print(' '*(rows - 2) + '*' * (3))\n",
        "\n",
        "rows = int(input('使用者輸入聖誕樹高度'))\n",
        "christmas_tree(rows)"
      ]
    },
    {
      "cell_type": "code",
      "source": [
        "try:\n",
        "  h = int(input('請使用者輸入身高(公分)'))\n",
        "  w = int(input('請使用者輸入體重(公斤)'))\n",
        "  def calculate(w,h):\n",
        "    h /= 100\n",
        "    result = w / h**2\n",
        "    return result\n",
        "  a = calculate(w,h)\n",
        "  print(a)\n",
        "  if a>=27:\n",
        "    print('體位:肥胖')\n",
        "  elif a>=24 and a<27:\n",
        "    print('體位:過重')\n",
        "  elif a>=18.5 and a<24:\n",
        "    print('體位:適中')\n",
        "  elif a<18.5:\n",
        "    print('體位:過輕')\n",
        "except:\n",
        "  print('輸入內容錯誤')"
      ],
      "metadata": {
        "id": "WxtMEwK50oRD",
        "colab": {
          "base_uri": "https://localhost:8080/"
        },
        "outputId": "2569d645-a473-4cb9-cdd1-d1218838ad56"
      },
      "execution_count": 30,
      "outputs": [
        {
          "output_type": "stream",
          "name": "stdout",
          "text": [
            "請使用者輸入身高(公分)180\n",
            "請使用者輸入體重(公斤)e\n",
            "輸入內容錯誤\n"
          ]
        }
      ]
    },
    {
      "cell_type": "code",
      "source": [
        "try:\n",
        "  h = int(input('請使用者輸入身高(公分)'))\n",
        "  w = int(input('請使用者輸入體重(公斤)'))\n",
        "  def calculate(w,h):\n",
        "    h /= 100\n",
        "    result = w / h**2\n",
        "    return result\n",
        "  a = calculate(w,h)\n",
        "  print(a)\n",
        "  if a>=27:\n",
        "    print('體位:肥胖')\n",
        "  elif a>=24 and a<27:\n",
        "    print('體位:過重')\n",
        "  elif a>=18.5 and a<24:\n",
        "    print('體位:適中')\n",
        "  elif a<18.5:\n",
        "    print('體位:過輕')\n",
        "except:\n",
        "  print('輸入內容錯誤')"
      ],
      "metadata": {
        "colab": {
          "base_uri": "https://localhost:8080/"
        },
        "id": "C93-stIL-kHT",
        "outputId": "57c53e41-c30b-429e-d452-6ed09d9bc744"
      },
      "execution_count": 31,
      "outputs": [
        {
          "output_type": "stream",
          "name": "stdout",
          "text": [
            "請使用者輸入身高(公分)180\n",
            "請使用者輸入體重(公斤)86\n",
            "26.54320987654321\n",
            "體位:過重\n"
          ]
        }
      ]
    }
  ]
}